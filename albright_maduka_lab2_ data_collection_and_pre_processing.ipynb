{
 "cells": [
  {
   "cell_type": "markdown",
   "id": "8936fc14",
   "metadata": {},
   "source": [
    "#### Lab 2 — Data Collection & Pre-Processing\n",
    "Albright Maduka  \n",
    "\n",
    "PROG8245 \n"
   ]
  },
  {
   "cell_type": "markdown",
   "id": "0feecdda",
   "metadata": {},
   "source": [
    "#### Lab Assignment\n",
    "\n",
    "This notebook follows the 12-step Data Engineering roadmap to process a synthetic e-commerce dataset.  \n",
    "Primary dataset: `1000_sales_records_csv` (synthetic, 500 rows).  \n",
    "Secondary dataset: `world_cities.csv` (metadata from SimpleMaps)."
   ]
  },
  {
   "cell_type": "markdown",
   "id": "1e292a69",
   "metadata": {},
   "source": [
    "### 1. Hello, Data!\n",
    "\n",
    "Aim: Load raw CSV and display first 3 rows\n",
    "\n",
    "Reason: It ensure that my dataset is read and loaded correctly"
   ]
  },
  {
   "cell_type": "code",
   "execution_count": 2,
   "id": "954afceb",
   "metadata": {},
   "outputs": [
    {
     "name": "stdout",
     "output_type": "stream",
     "text": [
      "                         Region Country   Item Type Sales Channel  \\\n",
      "0  Middle East and North Africa   Libya   Cosmetics       Offline   \n",
      "1                 North America  Canada  Vegetables        Online   \n",
      "2  Middle East and North Africa   Libya   Baby Food       Offline   \n",
      "\n",
      "  Order Priority  Order Date   Order ID   Ship Date  Units Sold  Unit Price  \\\n",
      "0              M  10/18/2014  686800706  10/31/2014        8446      437.20   \n",
      "1              M   11/7/2011  185941302   12/8/2011        3018      154.06   \n",
      "2              C  10/31/2016  246222341   12/9/2016        1517      255.28   \n",
      "\n",
      "   Unit Cost  Total Revenue  Total Cost  Total Profit  \n",
      "0     263.33     3692591.20  2224085.18    1468506.02  \n",
      "1      90.93      464953.08   274426.74     190526.34  \n",
      "2     159.42      387259.76   241840.14     145419.62  \n"
     ]
    }
   ],
   "source": [
    "import pandas as pd\n",
    "import numpy as np\n",
    "# Read the CSV file into a DataFrame\n",
    "df = pd.read_csv(r\"data\\1000 Sales Records.csv\")\n",
    "data = pd.DataFrame(df) # Convert to DataFrame\n",
    "print(df.head(3)) # Display the first few rows of the DataFrame\n"
   ]
  },
  {
   "cell_type": "markdown",
   "id": "a6ed6758",
   "metadata": {},
   "source": [
    "#### 2. Pick the Right Container\n",
    "Question : Dict vs namedtuple vs set (1–2 sentences).\n",
    "\n",
    "Answer: Dict is use for looksup/mappings ie. coupon for discout\n",
    "    \n",
    "    set is use for unique checks ie. cities\n",
    "      \n",
    "    Namedtuple is for creating lightweight, objects with named fields, providing better structure and readability\n"
   ]
  },
  {
   "cell_type": "markdown",
   "id": "ade489de",
   "metadata": {},
   "source": [
    "#### 3. Implement Functions and Data Structure\n",
    "Implement and use it to populate a data structure"
   ]
  },
  {
   "cell_type": "code",
   "execution_count": 51,
   "id": "14176df4",
   "metadata": {},
   "outputs": [
    {
     "name": "stdout",
     "output_type": "stream",
     "text": [
      "Cleaned: 1000 → 1000 rows\n"
     ]
    },
    {
     "data": {
      "text/plain": [
       "1327321840.33"
      ]
     },
     "execution_count": 51,
     "metadata": {},
     "output_type": "execute_result"
    }
   ],
   "source": [
    "class SalesData:\n",
    "    # Initialize with a DataFrame\n",
    "    def __init__(self, df):\n",
    "        self.df = df.copy()\n",
    "    \n",
    "    def clean(self):\n",
    "        # data cleaning\n",
    "        # basic example: drop rows missing critical values\n",
    "        before = len(self.df)\n",
    "        self.df = self.df.dropna(subset=[\"Units Sold\", \"Unit Price\", \"Total Revenue\"]) #remove rows with missing values in these columns\n",
    "        after = len(self.df)\n",
    "        print(f\"Cleaned: {before} → {after} rows\")\n",
    "        return self.df\n",
    "    \n",
    "    def total(self):\n",
    "        # compute and return\n",
    "        # total revenue cross-check\n",
    "        return float(self.df[\"Total Revenue\"].sum())\n",
    "\n",
    "sales = SalesData(df)\n",
    "_ = sales.clean()\n",
    "sales.total()"
   ]
  },
  {
   "cell_type": "markdown",
   "id": "9f1ab6c2",
   "metadata": {},
   "source": [
    "#### 4. Bulk Loaded \n",
    "Map data structures from dataframes to dictionaries"
   ]
  },
  {
   "cell_type": "code",
   "execution_count": 7,
   "id": "9cfb9562",
   "metadata": {},
   "outputs": [
    {
     "data": {
      "text/plain": [
       "[{'Region': 'Middle East and North Africa',\n",
       "  'Country': 'Libya',\n",
       "  'Item Type': 'Cosmetics',\n",
       "  'Sales Channel': 'Offline',\n",
       "  'Order Priority': 'M',\n",
       "  'Order Date': '10/18/2014',\n",
       "  'Order ID': 686800706,\n",
       "  'Ship Date': '10/31/2014',\n",
       "  'Units Sold': 8446,\n",
       "  'Unit Price': 437.2,\n",
       "  'Unit Cost': 263.33,\n",
       "  'Total Revenue': 3692591.2,\n",
       "  'Total Cost': 2224085.18,\n",
       "  'Total Profit': 1468506.02},\n",
       " {'Region': 'North America',\n",
       "  'Country': 'Canada',\n",
       "  'Item Type': 'Vegetables',\n",
       "  'Sales Channel': 'Online',\n",
       "  'Order Priority': 'M',\n",
       "  'Order Date': '11/7/2011',\n",
       "  'Order ID': 185941302,\n",
       "  'Ship Date': '12/8/2011',\n",
       "  'Units Sold': 3018,\n",
       "  'Unit Price': 154.06,\n",
       "  'Unit Cost': 90.93,\n",
       "  'Total Revenue': 464953.08,\n",
       "  'Total Cost': 274426.74,\n",
       "  'Total Profit': 190526.34},\n",
       " {'Region': 'Middle East and North Africa',\n",
       "  'Country': 'Libya',\n",
       "  'Item Type': 'Baby Food',\n",
       "  'Sales Channel': 'Offline',\n",
       "  'Order Priority': 'C',\n",
       "  'Order Date': '10/31/2016',\n",
       "  'Order ID': 246222341,\n",
       "  'Ship Date': '12/9/2016',\n",
       "  'Units Sold': 1517,\n",
       "  'Unit Price': 255.28,\n",
       "  'Unit Cost': 159.42,\n",
       "  'Total Revenue': 387259.76,\n",
       "  'Total Cost': 241840.14,\n",
       "  'Total Profit': 145419.62}]"
      ]
     },
     "execution_count": 7,
     "metadata": {},
     "output_type": "execute_result"
    }
   ],
   "source": [
    "# Convert sample rows to list of dictionaries\n",
    "records = df.to_dict(orient=\"records\")[:3]\n",
    "records\n"
   ]
  },
  {
   "cell_type": "markdown",
   "id": "7924a780",
   "metadata": {},
   "source": [
    "Note: This line above is used to see how your dataset rows look in the dictionary."
   ]
  },
  {
   "cell_type": "markdown",
   "id": "8254284d",
   "metadata": {},
   "source": [
    "Reason: It's the process of cleaning raw data\n",
    "i. I removed duplicates\n",
    "ii. I removed the rows with missing values\n",
    "iii. I removed the spaces\n",
    "iv. converted dates to time\n",
    "v. filled the missing coupon codes with none"
   ]
  },
  {
   "cell_type": "code",
   "execution_count": 16,
   "id": "c95371f0",
   "metadata": {},
   "outputs": [
    {
     "data": {
      "application/vnd.microsoft.datawrangler.viewer.v0+json": {
       "columns": [
        {
         "name": "index",
         "rawType": "int64",
         "type": "integer"
        },
        {
         "name": "date",
         "rawType": "datetime64[ns]",
         "type": "datetime"
        },
        {
         "name": "customer_id",
         "rawType": "object",
         "type": "string"
        },
        {
         "name": "product",
         "rawType": "object",
         "type": "string"
        },
        {
         "name": "price",
         "rawType": "float64",
         "type": "float"
        },
        {
         "name": "quantity",
         "rawType": "int64",
         "type": "integer"
        },
        {
         "name": "coupon_code",
         "rawType": "object",
         "type": "string"
        },
        {
         "name": "shipping_city",
         "rawType": "object",
         "type": "string"
        }
       ],
       "ref": "04695c03-5845-4fb0-967e-dca6a37b49f8",
       "rows": [
        [
         "0",
         "2014-10-18 00:00:00",
         "CUST00001",
         "Cosmetics",
         "437.2",
         "8446",
         "SAVE20",
         "Toronto"
        ],
        [
         "1",
         "2011-11-07 00:00:00",
         "CUST00002",
         "Vegetables",
         "154.06",
         "3018",
         "PROMO10",
         "Tokyo"
        ],
        [
         "2",
         "2016-10-31 00:00:00",
         "CUST00003",
         "Baby Food",
         "255.28",
         "1517",
         "FREESHIP",
         "New York"
        ]
       ],
       "shape": {
        "columns": 7,
        "rows": 3
       }
      },
      "text/html": [
       "<div>\n",
       "<style scoped>\n",
       "    .dataframe tbody tr th:only-of-type {\n",
       "        vertical-align: middle;\n",
       "    }\n",
       "\n",
       "    .dataframe tbody tr th {\n",
       "        vertical-align: top;\n",
       "    }\n",
       "\n",
       "    .dataframe thead th {\n",
       "        text-align: right;\n",
       "    }\n",
       "</style>\n",
       "<table border=\"1\" class=\"dataframe\">\n",
       "  <thead>\n",
       "    <tr style=\"text-align: right;\">\n",
       "      <th></th>\n",
       "      <th>date</th>\n",
       "      <th>customer_id</th>\n",
       "      <th>product</th>\n",
       "      <th>price</th>\n",
       "      <th>quantity</th>\n",
       "      <th>coupon_code</th>\n",
       "      <th>shipping_city</th>\n",
       "    </tr>\n",
       "  </thead>\n",
       "  <tbody>\n",
       "    <tr>\n",
       "      <th>0</th>\n",
       "      <td>2014-10-18</td>\n",
       "      <td>CUST00001</td>\n",
       "      <td>Cosmetics</td>\n",
       "      <td>437.20</td>\n",
       "      <td>8446</td>\n",
       "      <td>SAVE20</td>\n",
       "      <td>Toronto</td>\n",
       "    </tr>\n",
       "    <tr>\n",
       "      <th>1</th>\n",
       "      <td>2011-11-07</td>\n",
       "      <td>CUST00002</td>\n",
       "      <td>Vegetables</td>\n",
       "      <td>154.06</td>\n",
       "      <td>3018</td>\n",
       "      <td>PROMO10</td>\n",
       "      <td>Tokyo</td>\n",
       "    </tr>\n",
       "    <tr>\n",
       "      <th>2</th>\n",
       "      <td>2016-10-31</td>\n",
       "      <td>CUST00003</td>\n",
       "      <td>Baby Food</td>\n",
       "      <td>255.28</td>\n",
       "      <td>1517</td>\n",
       "      <td>FREESHIP</td>\n",
       "      <td>New York</td>\n",
       "    </tr>\n",
       "  </tbody>\n",
       "</table>\n",
       "</div>"
      ],
      "text/plain": [
       "        date customer_id     product   price  quantity coupon_code  \\\n",
       "0 2014-10-18   CUST00001   Cosmetics  437.20      8446      SAVE20   \n",
       "1 2011-11-07   CUST00002  Vegetables  154.06      3018     PROMO10   \n",
       "2 2016-10-31   CUST00003   Baby Food  255.28      1517    FREESHIP   \n",
       "\n",
       "  shipping_city  \n",
       "0       Toronto  \n",
       "1         Tokyo  \n",
       "2      New York  "
      ]
     },
     "execution_count": 16,
     "metadata": {},
     "output_type": "execute_result"
    }
   ],
   "source": [
    "# Create the 7-field \"transactions\"\n",
    "np.random.seed(7) \n",
    "\n",
    "transactions = pd.DataFrame({\n",
    "    \"date\": pd.to_datetime(df[\"Order Date\"]), # map from Order Date\n",
    "    \"customer_id\": [\"CUST\" + str(i).zfill(5) for i in range(1, len(df)+1)],  # synthetic\n",
    "    \"product\": df[\"Item Type\"], # map from Item Type                 \n",
    "    \"price\": df[\"Unit Price\"], # map from Unit Price\n",
    "    \"quantity\": df[\"Units Sold\"], # map from Units Sold                  \n",
    "})\n",
    "\n",
    "# Synthetic coupon codes & shipping cities\n",
    "coupon_pool = [\"PROMO11\", \"PROMO10\", \"DISCOUNT5\", \"FREESHIP\", \"SAVE20\"]\n",
    "city_pool   = [\"Toronto\",\"New York\",\"London\",\"Dubai\",\"Sydney\",\"Mumbai\",\"Paris\",\"Berlin\",\"Tokyo\",\"Mexico City\"]\n",
    "\n",
    "transactions[\"coupon_code\"]   = np.random.choice(coupon_pool, size=len(transactions))\n",
    "transactions[\"shipping_city\"] = np.random.choice(city_pool, size=len(transactions))\n",
    "\n",
    "transactions.head(3)\n"
   ]
  },
  {
   "cell_type": "markdown",
   "id": "bdecd489",
   "metadata": {},
   "source": [
    "Note:  Bulk Loaded (Create Required Transactions Schema)\n",
    "\n",
    "My dataset does not have the required 7 fields\n",
    "date, customer_id, product, price, quantity, coupon_code, shipping_city\n",
    "\n",
    " *date* - `Order Date`\n",
    " *customer_id* - generated synthetic IDs (`CUST00001`, …)\n",
    " *product* - `Item Type`\n",
    "*price* - `Unit Price`\n",
    "*quantity* - `Units Sold`\n",
    "*coupon_code* - (`PROMO10`, `DISCOUNT5`, etc.)\n",
    "*shipping_city* - randomly from cities\n",
    "\n",
    "This allows my dataset to match the required fields\n"
   ]
  },
  {
   "cell_type": "markdown",
   "id": "d03b4dff",
   "metadata": {},
   "source": [
    "#### 5. Quick Profiling\n",
    "We already did something like this in class"
   ]
  },
  {
   "cell_type": "code",
   "execution_count": 18,
   "id": "591ea099",
   "metadata": {},
   "outputs": [
    {
     "name": "stdout",
     "output_type": "stream",
     "text": [
      "Data Info:\n",
      "<class 'pandas.core.frame.DataFrame'>\n",
      "RangeIndex: 1000 entries, 0 to 999\n",
      "Data columns (total 7 columns):\n",
      " #   Column         Non-Null Count  Dtype         \n",
      "---  ------         --------------  -----         \n",
      " 0   date           1000 non-null   datetime64[ns]\n",
      " 1   customer_id    1000 non-null   object        \n",
      " 2   product        1000 non-null   object        \n",
      " 3   price          1000 non-null   float64       \n",
      " 4   quantity       1000 non-null   int64         \n",
      " 5   coupon_code    1000 non-null   object        \n",
      " 6   shipping_city  1000 non-null   object        \n",
      "dtypes: datetime64[ns](1), float64(1), int64(1), object(4)\n",
      "memory usage: 54.8+ KB\n",
      "None\n",
      "\n",
      "Data Description:\n",
      "                                 date customer_id    product       price  \\\n",
      "count                            1000        1000       1000  1000.00000   \n",
      "unique                            NaN        1000         12         NaN   \n",
      "top                               NaN   CUST00001  Beverages         NaN   \n",
      "freq                              NaN           1        101         NaN   \n",
      "mean    2013-09-19 23:29:45.600000256         NaN        NaN   262.10684   \n",
      "min               2010-01-01 00:00:00         NaN        NaN     9.33000   \n",
      "25%               2011-11-14 06:00:00         NaN        NaN    81.73000   \n",
      "50%               2013-09-24 12:00:00         NaN        NaN   154.06000   \n",
      "75%               2015-07-03 00:00:00         NaN        NaN   421.89000   \n",
      "max               2017-07-26 00:00:00         NaN        NaN   668.27000   \n",
      "std                               NaN         NaN        NaN   216.02106   \n",
      "\n",
      "           quantity coupon_code shipping_city  \n",
      "count   1000.000000        1000          1000  \n",
      "unique          NaN           5            10  \n",
      "top             NaN     PROMO11   Mexico City  \n",
      "freq            NaN         218           109  \n",
      "mean    5053.988000         NaN           NaN  \n",
      "min       13.000000         NaN           NaN  \n",
      "25%     2420.250000         NaN           NaN  \n",
      "50%     5184.000000         NaN           NaN  \n",
      "75%     7536.750000         NaN           NaN  \n",
      "max     9998.000000         NaN           NaN  \n",
      "std     2901.375317         NaN           NaN  \n"
     ]
    },
    {
     "data": {
      "application/vnd.microsoft.datawrangler.viewer.v0+json": {
       "columns": [
        {
         "name": "index",
         "rawType": "int64",
         "type": "integer"
        },
        {
         "name": "date",
         "rawType": "datetime64[ns]",
         "type": "datetime"
        },
        {
         "name": "customer_id",
         "rawType": "object",
         "type": "string"
        },
        {
         "name": "product",
         "rawType": "object",
         "type": "string"
        },
        {
         "name": "price",
         "rawType": "float64",
         "type": "float"
        },
        {
         "name": "quantity",
         "rawType": "int64",
         "type": "integer"
        },
        {
         "name": "coupon_code",
         "rawType": "object",
         "type": "string"
        },
        {
         "name": "shipping_city",
         "rawType": "object",
         "type": "string"
        }
       ],
       "ref": "eb096455-c81d-4ffe-861b-bdfbf07aebc0",
       "rows": [
        [
         "0",
         "2014-10-18 00:00:00",
         "CUST00001",
         "Cosmetics",
         "437.2",
         "8446",
         "SAVE20",
         "Toronto"
        ],
        [
         "1",
         "2011-11-07 00:00:00",
         "CUST00002",
         "Vegetables",
         "154.06",
         "3018",
         "PROMO10",
         "Tokyo"
        ],
        [
         "2",
         "2016-10-31 00:00:00",
         "CUST00003",
         "Baby Food",
         "255.28",
         "1517",
         "FREESHIP",
         "New York"
        ]
       ],
       "shape": {
        "columns": 7,
        "rows": 3
       }
      },
      "text/html": [
       "<div>\n",
       "<style scoped>\n",
       "    .dataframe tbody tr th:only-of-type {\n",
       "        vertical-align: middle;\n",
       "    }\n",
       "\n",
       "    .dataframe tbody tr th {\n",
       "        vertical-align: top;\n",
       "    }\n",
       "\n",
       "    .dataframe thead th {\n",
       "        text-align: right;\n",
       "    }\n",
       "</style>\n",
       "<table border=\"1\" class=\"dataframe\">\n",
       "  <thead>\n",
       "    <tr style=\"text-align: right;\">\n",
       "      <th></th>\n",
       "      <th>date</th>\n",
       "      <th>customer_id</th>\n",
       "      <th>product</th>\n",
       "      <th>price</th>\n",
       "      <th>quantity</th>\n",
       "      <th>coupon_code</th>\n",
       "      <th>shipping_city</th>\n",
       "    </tr>\n",
       "  </thead>\n",
       "  <tbody>\n",
       "    <tr>\n",
       "      <th>0</th>\n",
       "      <td>2014-10-18</td>\n",
       "      <td>CUST00001</td>\n",
       "      <td>Cosmetics</td>\n",
       "      <td>437.20</td>\n",
       "      <td>8446</td>\n",
       "      <td>SAVE20</td>\n",
       "      <td>Toronto</td>\n",
       "    </tr>\n",
       "    <tr>\n",
       "      <th>1</th>\n",
       "      <td>2011-11-07</td>\n",
       "      <td>CUST00002</td>\n",
       "      <td>Vegetables</td>\n",
       "      <td>154.06</td>\n",
       "      <td>3018</td>\n",
       "      <td>PROMO10</td>\n",
       "      <td>Tokyo</td>\n",
       "    </tr>\n",
       "    <tr>\n",
       "      <th>2</th>\n",
       "      <td>2016-10-31</td>\n",
       "      <td>CUST00003</td>\n",
       "      <td>Baby Food</td>\n",
       "      <td>255.28</td>\n",
       "      <td>1517</td>\n",
       "      <td>FREESHIP</td>\n",
       "      <td>New York</td>\n",
       "    </tr>\n",
       "  </tbody>\n",
       "</table>\n",
       "</div>"
      ],
      "text/plain": [
       "        date customer_id     product   price  quantity coupon_code  \\\n",
       "0 2014-10-18   CUST00001   Cosmetics  437.20      8446      SAVE20   \n",
       "1 2011-11-07   CUST00002  Vegetables  154.06      3018     PROMO10   \n",
       "2 2016-10-31   CUST00003   Baby Food  255.28      1517    FREESHIP   \n",
       "\n",
       "  shipping_city  \n",
       "0       Toronto  \n",
       "1         Tokyo  \n",
       "2      New York  "
      ]
     },
     "execution_count": 18,
     "metadata": {},
     "output_type": "execute_result"
    }
   ],
   "source": [
    "data = transactions.copy()  # stick to a single working variable\n",
    "\n",
    "print(\"Data Info:\") # This is used to display summary of the DataFrame\n",
    "print(data.info())\n",
    "\n",
    "print(\"\\nData Description:\") # Generate or describe statistics that summarize the central tendency, dispersion and shape of a dataset's distribution, excluding NaN values.\n",
    "print(data.describe(include='all'))\n",
    "\n",
    "# Optional: standardize headers to lower-snake for easier coding later\n",
    "data.columns = (data.columns\n",
    "                .str.strip()\n",
    "                .str.lower() \n",
    "                .str.replace(\" \", \"_\")) # replace spaces with underscores\n",
    "data.head(3)\n"
   ]
  },
  {
   "cell_type": "markdown",
   "id": "53d75bc6",
   "metadata": {},
   "source": [
    "#### 6. Spot the Grime"
   ]
  },
  {
   "cell_type": "code",
   "execution_count": null,
   "id": "c223671b",
   "metadata": {},
   "outputs": [
    {
     "name": "stdout",
     "output_type": "stream",
     "text": [
      "\n",
      "Missing Values:\n",
      "date             0\n",
      "customer_id      0\n",
      "product          0\n",
      "price            0\n",
      "quantity         0\n",
      "coupon_code      0\n",
      "shipping_city    0\n",
      "dtype: int64\n",
      "\n",
      "Duplicate rows: 0\n",
      "\n",
      "Non-positive quantities: 0\n",
      "Non-positive prices: 0\n"
     ]
    }
   ],
   "source": [
    "# Check for missing values\n",
    "print(\"\\nMissing Values:\")\n",
    "print(data.isnull().sum())\n",
    "\n",
    "# Remove duplicates if any is present\n",
    "dup_count = data.duplicated().sum()\n",
    "print(f\"\\nDuplicate rows: {dup_count}\")\n",
    "\n",
    "# Spot negative or zero values in quantity and price\n",
    "print(\"\\nNon-positive quantities:\", (data[\"quantity\"] <= 0).sum())\n",
    "print(\"Non-positive prices:\", (data[\"price\"] <= 0).sum())\n"
   ]
  },
  {
   "cell_type": "markdown",
   "id": "331afd12",
   "metadata": {},
   "source": [
    "### 7. Cleaning \n",
    "Also in the lecture lab note\n"
   ]
  },
  {
   "cell_type": "code",
   "execution_count": 23,
   "id": "55c9e490",
   "metadata": {},
   "outputs": [
    {
     "name": "stdout",
     "output_type": "stream",
     "text": [
      "Cleaning complete: 1000 → 1000 rows\n"
     ]
    },
    {
     "data": {
      "application/vnd.microsoft.datawrangler.viewer.v0+json": {
       "columns": [
        {
         "name": "index",
         "rawType": "int64",
         "type": "integer"
        },
        {
         "name": "date",
         "rawType": "datetime64[ns]",
         "type": "datetime"
        },
        {
         "name": "customer_id",
         "rawType": "object",
         "type": "string"
        },
        {
         "name": "product",
         "rawType": "object",
         "type": "string"
        },
        {
         "name": "price",
         "rawType": "float64",
         "type": "float"
        },
        {
         "name": "quantity",
         "rawType": "int64",
         "type": "integer"
        },
        {
         "name": "coupon_code",
         "rawType": "object",
         "type": "string"
        },
        {
         "name": "shipping_city",
         "rawType": "object",
         "type": "string"
        }
       ],
       "ref": "8c69a735-3761-4766-80dc-3dff4cffacee",
       "rows": [
        [
         "0",
         "2014-10-18 00:00:00",
         "CUST00001",
         "Cosmetics",
         "437.2",
         "8446",
         "SAVE20",
         "toronto"
        ],
        [
         "1",
         "2011-11-07 00:00:00",
         "CUST00002",
         "Vegetables",
         "154.06",
         "3018",
         "PROMO10",
         "tokyo"
        ],
        [
         "2",
         "2016-10-31 00:00:00",
         "CUST00003",
         "Baby Food",
         "255.28",
         "1517",
         "FREESHIP",
         "new york"
        ]
       ],
       "shape": {
        "columns": 7,
        "rows": 3
       }
      },
      "text/html": [
       "<div>\n",
       "<style scoped>\n",
       "    .dataframe tbody tr th:only-of-type {\n",
       "        vertical-align: middle;\n",
       "    }\n",
       "\n",
       "    .dataframe tbody tr th {\n",
       "        vertical-align: top;\n",
       "    }\n",
       "\n",
       "    .dataframe thead th {\n",
       "        text-align: right;\n",
       "    }\n",
       "</style>\n",
       "<table border=\"1\" class=\"dataframe\">\n",
       "  <thead>\n",
       "    <tr style=\"text-align: right;\">\n",
       "      <th></th>\n",
       "      <th>date</th>\n",
       "      <th>customer_id</th>\n",
       "      <th>product</th>\n",
       "      <th>price</th>\n",
       "      <th>quantity</th>\n",
       "      <th>coupon_code</th>\n",
       "      <th>shipping_city</th>\n",
       "    </tr>\n",
       "  </thead>\n",
       "  <tbody>\n",
       "    <tr>\n",
       "      <th>0</th>\n",
       "      <td>2014-10-18</td>\n",
       "      <td>CUST00001</td>\n",
       "      <td>Cosmetics</td>\n",
       "      <td>437.20</td>\n",
       "      <td>8446</td>\n",
       "      <td>SAVE20</td>\n",
       "      <td>toronto</td>\n",
       "    </tr>\n",
       "    <tr>\n",
       "      <th>1</th>\n",
       "      <td>2011-11-07</td>\n",
       "      <td>CUST00002</td>\n",
       "      <td>Vegetables</td>\n",
       "      <td>154.06</td>\n",
       "      <td>3018</td>\n",
       "      <td>PROMO10</td>\n",
       "      <td>tokyo</td>\n",
       "    </tr>\n",
       "    <tr>\n",
       "      <th>2</th>\n",
       "      <td>2016-10-31</td>\n",
       "      <td>CUST00003</td>\n",
       "      <td>Baby Food</td>\n",
       "      <td>255.28</td>\n",
       "      <td>1517</td>\n",
       "      <td>FREESHIP</td>\n",
       "      <td>new york</td>\n",
       "    </tr>\n",
       "  </tbody>\n",
       "</table>\n",
       "</div>"
      ],
      "text/plain": [
       "        date customer_id     product   price  quantity coupon_code  \\\n",
       "0 2014-10-18   CUST00001   Cosmetics  437.20      8446      SAVE20   \n",
       "1 2011-11-07   CUST00002  Vegetables  154.06      3018     PROMO10   \n",
       "2 2016-10-31   CUST00003   Baby Food  255.28      1517    FREESHIP   \n",
       "\n",
       "  shipping_city  \n",
       "0       toronto  \n",
       "1         tokyo  \n",
       "2      new york  "
      ]
     },
     "execution_count": 23,
     "metadata": {},
     "output_type": "execute_result"
    }
   ],
   "source": [
    "before = len(data)\n",
    "\n",
    "# Remove duplicates\n",
    "data = data.drop_duplicates()\n",
    "\n",
    "# Handle missing values (example: fill missing coupon codes with \"NO_COUPON\")\n",
    "data[\"coupon_code\"] = data[\"coupon_code\"].fillna(\"NO_COUPON\")\n",
    "\n",
    "# Standardize text fields (example: trim whitespace and convert to title case for shipping_city)\n",
    "data[\"shipping_city\"] = data[\"shipping_city\"].str.strip().str.title().str.lower()\n",
    "\n",
    "# Convert data types\n",
    "data[\"date\"] = pd.to_datetime(data[\"date\"])\n",
    "data[\"quantity\"] = pd.to_numeric(data[\"quantity\"], errors=\"coerce\")\n",
    "data[\"price\"] = pd.to_numeric(data[\"price\"], errors=\"coerce\")\n",
    "\n",
    "# Remove rows with non-positive quantity or price\n",
    "data = data[(data[\"quantity\"] > 0) & (data[\"price\"] > 0)]\n",
    "\n",
    "after = len(data)\n",
    "print(f\"Cleaning complete: {before} → {after} rows\")\n",
    "data.head(3)\n"
   ]
  },
  {
   "cell_type": "markdown",
   "id": "1c162a9e",
   "metadata": {},
   "source": [
    "#### 8. Transformation (Transforming Coupons to Discounts, Revenue, Transaction key)\n",
    "\n",
    "In our lecture lab note we had address but the lab assignment did ask me to use address.\n",
    "\n",
    "-Mapping *coupon_code* to a numeric discount using a dictionary.  \n",
    "*net_price* = price × (1 − discount)\n",
    "\n",
    "revenue = net_price × quantity.  \n",
    "*transaction_key* (date + customer_id + product) for tracking.  \n",
    "FREESHIP = `0.00`.\n"
   ]
  },
  {
   "cell_type": "code",
   "execution_count": 32,
   "id": "e97b76be",
   "metadata": {},
   "outputs": [
    {
     "data": {
      "application/vnd.microsoft.datawrangler.viewer.v0+json": {
       "columns": [
        {
         "name": "index",
         "rawType": "int64",
         "type": "integer"
        },
        {
         "name": "date",
         "rawType": "datetime64[ns]",
         "type": "datetime"
        },
        {
         "name": "customer_id",
         "rawType": "object",
         "type": "string"
        },
        {
         "name": "product",
         "rawType": "object",
         "type": "string"
        },
        {
         "name": "price",
         "rawType": "float64",
         "type": "float"
        },
        {
         "name": "quantity",
         "rawType": "int64",
         "type": "integer"
        },
        {
         "name": "coupon_code",
         "rawType": "object",
         "type": "string"
        },
        {
         "name": "shipping_city",
         "rawType": "object",
         "type": "string"
        },
        {
         "name": "discount",
         "rawType": "float64",
         "type": "float"
        },
        {
         "name": "net_price",
         "rawType": "float64",
         "type": "float"
        },
        {
         "name": "revenue",
         "rawType": "float64",
         "type": "float"
        },
        {
         "name": "transaction_key",
         "rawType": "object",
         "type": "string"
        }
       ],
       "ref": "eaef20ee-2296-41bd-bb64-d33660ca1f39",
       "rows": [
        [
         "0",
         "2014-10-18 00:00:00",
         "CUST00001",
         "Cosmetics",
         "437.2",
         "8446",
         "SAVE20",
         "toronto",
         "0.2",
         "349.76",
         "2954072.96",
         "20141018_CUST00001_Cosmetics"
        ],
        [
         "1",
         "2011-11-07 00:00:00",
         "CUST00002",
         "Vegetables",
         "154.06",
         "3018",
         "PROMO10",
         "tokyo",
         "0.1",
         "138.654",
         "418457.772",
         "20111107_CUST00002_Vegetables"
        ],
        [
         "2",
         "2016-10-31 00:00:00",
         "CUST00003",
         "Baby Food",
         "255.28",
         "1517",
         "FREESHIP",
         "new york",
         "0.0",
         "255.28",
         "387259.76",
         "20161031_CUST00003_BabyFood"
        ],
        [
         "3",
         "2010-04-10 00:00:00",
         "CUST00004",
         "Cereal",
         "205.7",
         "3322",
         "FREESHIP",
         "new york",
         "0.0",
         "205.7",
         "683335.3999999999",
         "20100410_CUST00004_Cereal"
        ],
        [
         "4",
         "2011-08-16 00:00:00",
         "CUST00005",
         "Fruits",
         "9.33",
         "9845",
         "SAVE20",
         "london",
         "0.2",
         "7.464",
         "73483.08",
         "20110816_CUST00005_Fruits"
        ]
       ],
       "shape": {
        "columns": 11,
        "rows": 5
       }
      },
      "text/html": [
       "<div>\n",
       "<style scoped>\n",
       "    .dataframe tbody tr th:only-of-type {\n",
       "        vertical-align: middle;\n",
       "    }\n",
       "\n",
       "    .dataframe tbody tr th {\n",
       "        vertical-align: top;\n",
       "    }\n",
       "\n",
       "    .dataframe thead th {\n",
       "        text-align: right;\n",
       "    }\n",
       "</style>\n",
       "<table border=\"1\" class=\"dataframe\">\n",
       "  <thead>\n",
       "    <tr style=\"text-align: right;\">\n",
       "      <th></th>\n",
       "      <th>date</th>\n",
       "      <th>customer_id</th>\n",
       "      <th>product</th>\n",
       "      <th>price</th>\n",
       "      <th>quantity</th>\n",
       "      <th>coupon_code</th>\n",
       "      <th>shipping_city</th>\n",
       "      <th>discount</th>\n",
       "      <th>net_price</th>\n",
       "      <th>revenue</th>\n",
       "      <th>transaction_key</th>\n",
       "    </tr>\n",
       "  </thead>\n",
       "  <tbody>\n",
       "    <tr>\n",
       "      <th>0</th>\n",
       "      <td>2014-10-18</td>\n",
       "      <td>CUST00001</td>\n",
       "      <td>Cosmetics</td>\n",
       "      <td>437.20</td>\n",
       "      <td>8446</td>\n",
       "      <td>SAVE20</td>\n",
       "      <td>toronto</td>\n",
       "      <td>0.2</td>\n",
       "      <td>349.760</td>\n",
       "      <td>2954072.960</td>\n",
       "      <td>20141018_CUST00001_Cosmetics</td>\n",
       "    </tr>\n",
       "    <tr>\n",
       "      <th>1</th>\n",
       "      <td>2011-11-07</td>\n",
       "      <td>CUST00002</td>\n",
       "      <td>Vegetables</td>\n",
       "      <td>154.06</td>\n",
       "      <td>3018</td>\n",
       "      <td>PROMO10</td>\n",
       "      <td>tokyo</td>\n",
       "      <td>0.1</td>\n",
       "      <td>138.654</td>\n",
       "      <td>418457.772</td>\n",
       "      <td>20111107_CUST00002_Vegetables</td>\n",
       "    </tr>\n",
       "    <tr>\n",
       "      <th>2</th>\n",
       "      <td>2016-10-31</td>\n",
       "      <td>CUST00003</td>\n",
       "      <td>Baby Food</td>\n",
       "      <td>255.28</td>\n",
       "      <td>1517</td>\n",
       "      <td>FREESHIP</td>\n",
       "      <td>new york</td>\n",
       "      <td>0.0</td>\n",
       "      <td>255.280</td>\n",
       "      <td>387259.760</td>\n",
       "      <td>20161031_CUST00003_BabyFood</td>\n",
       "    </tr>\n",
       "    <tr>\n",
       "      <th>3</th>\n",
       "      <td>2010-04-10</td>\n",
       "      <td>CUST00004</td>\n",
       "      <td>Cereal</td>\n",
       "      <td>205.70</td>\n",
       "      <td>3322</td>\n",
       "      <td>FREESHIP</td>\n",
       "      <td>new york</td>\n",
       "      <td>0.0</td>\n",
       "      <td>205.700</td>\n",
       "      <td>683335.400</td>\n",
       "      <td>20100410_CUST00004_Cereal</td>\n",
       "    </tr>\n",
       "    <tr>\n",
       "      <th>4</th>\n",
       "      <td>2011-08-16</td>\n",
       "      <td>CUST00005</td>\n",
       "      <td>Fruits</td>\n",
       "      <td>9.33</td>\n",
       "      <td>9845</td>\n",
       "      <td>SAVE20</td>\n",
       "      <td>london</td>\n",
       "      <td>0.2</td>\n",
       "      <td>7.464</td>\n",
       "      <td>73483.080</td>\n",
       "      <td>20110816_CUST00005_Fruits</td>\n",
       "    </tr>\n",
       "  </tbody>\n",
       "</table>\n",
       "</div>"
      ],
      "text/plain": [
       "        date customer_id     product   price  quantity coupon_code  \\\n",
       "0 2014-10-18   CUST00001   Cosmetics  437.20      8446      SAVE20   \n",
       "1 2011-11-07   CUST00002  Vegetables  154.06      3018     PROMO10   \n",
       "2 2016-10-31   CUST00003   Baby Food  255.28      1517    FREESHIP   \n",
       "3 2010-04-10   CUST00004      Cereal  205.70      3322    FREESHIP   \n",
       "4 2011-08-16   CUST00005      Fruits    9.33      9845      SAVE20   \n",
       "\n",
       "  shipping_city  discount  net_price      revenue  \\\n",
       "0       toronto       0.2    349.760  2954072.960   \n",
       "1         tokyo       0.1    138.654   418457.772   \n",
       "2      new york       0.0    255.280   387259.760   \n",
       "3      new york       0.0    205.700   683335.400   \n",
       "4        london       0.2      7.464    73483.080   \n",
       "\n",
       "                 transaction_key  \n",
       "0   20141018_CUST00001_Cosmetics  \n",
       "1  20111107_CUST00002_Vegetables  \n",
       "2    20161031_CUST00003_BabyFood  \n",
       "3      20100410_CUST00004_Cereal  \n",
       "4      20110816_CUST00005_Fruits  "
      ]
     },
     "execution_count": 32,
     "metadata": {},
     "output_type": "execute_result"
    }
   ],
   "source": [
    "# Map coupon_code → numeric discount rate in the dictionary lookup \n",
    "coupon_to_disc = {\n",
    "    \"PROMO10\": 0.10,\n",
    "    \"DISCOUNT5\": 0.05,\n",
    "    \"FREESHIP\": 0.00,\n",
    "    \"SAVE20\": 0.20,\n",
    "    \"PROMO11\": 0.11,\n",
    "}\n",
    "data[\"discount\"] = data[\"coupon_code\"].map(coupon_to_disc).fillna(0.0)\n",
    "#mapping out each coupon code to its corresponding discount rate\n",
    "#fillna(0.0) is used to assign a discount rate of 0.0 to any coupon code not found in the dictionary\n",
    "\n",
    "# Derived price after discount & line revenue\n",
    "data[\"net_price\"] = data[\"price\"] * (1 - data[\"discount\"])\n",
    "data[\"revenue\"]   = data[\"net_price\"] * data[\"quantity\"]\n",
    "\n",
    "# Transaction key (composite string)\n",
    "data[\"transaction_key\"] = (\n",
    "    data[\"date\"].dt.strftime(\"%Y%m%d\") + \"_\" +\n",
    "    data[\"customer_id\"] + \"_\" +\n",
    "    data[\"product\"].str.replace(r\"\\s+\", \"\", regex=True)\n",
    ")\n",
    "\n",
    "data.head(5)\n"
   ]
  },
  {
   "cell_type": "markdown",
   "id": "29bc9fbf",
   "metadata": {},
   "source": [
    "#### 9. Feature Engineeering "
   ]
  },
  {
   "cell_type": "code",
   "execution_count": 36,
   "id": "368f9778",
   "metadata": {},
   "outputs": [
    {
     "data": {
      "application/vnd.microsoft.datawrangler.viewer.v0+json": {
       "columns": [
        {
         "name": "index",
         "rawType": "int64",
         "type": "integer"
        },
        {
         "name": "date",
         "rawType": "datetime64[ns]",
         "type": "datetime"
        },
        {
         "name": "customer_id",
         "rawType": "object",
         "type": "string"
        },
        {
         "name": "product",
         "rawType": "object",
         "type": "string"
        },
        {
         "name": "price",
         "rawType": "float64",
         "type": "float"
        },
        {
         "name": "quantity",
         "rawType": "int64",
         "type": "integer"
        },
        {
         "name": "coupon_code",
         "rawType": "object",
         "type": "string"
        },
        {
         "name": "shipping_city",
         "rawType": "object",
         "type": "string"
        },
        {
         "name": "discount",
         "rawType": "float64",
         "type": "float"
        },
        {
         "name": "net_price",
         "rawType": "float64",
         "type": "float"
        },
        {
         "name": "revenue",
         "rawType": "float64",
         "type": "float"
        },
        {
         "name": "transaction_key",
         "rawType": "object",
         "type": "string"
        },
        {
         "name": "order_year",
         "rawType": "int32",
         "type": "integer"
        },
        {
         "name": "order_month",
         "rawType": "int32",
         "type": "integer"
        },
        {
         "name": "is_high_discount",
         "rawType": "int64",
         "type": "integer"
        },
        {
         "name": "product_initial",
         "rawType": "object",
         "type": "string"
        }
       ],
       "ref": "a6335c8d-95da-4915-86ec-a3b2d0e0ba46",
       "rows": [
        [
         "0",
         "2014-10-18 00:00:00",
         "CUST00001",
         "Cosmetics",
         "437.2",
         "8446",
         "SAVE20",
         "toronto",
         "0.2",
         "349.76",
         "2954072.96",
         "20141018_CUST00001_Cosmetics",
         "2014",
         "10",
         "1",
         "C"
        ],
        [
         "1",
         "2011-11-07 00:00:00",
         "CUST00002",
         "Vegetables",
         "154.06",
         "3018",
         "PROMO10",
         "tokyo",
         "0.1",
         "138.654",
         "418457.772",
         "20111107_CUST00002_Vegetables",
         "2011",
         "11",
         "1",
         "V"
        ],
        [
         "2",
         "2016-10-31 00:00:00",
         "CUST00003",
         "Baby Food",
         "255.28",
         "1517",
         "FREESHIP",
         "new york",
         "0.0",
         "255.28",
         "387259.76",
         "20161031_CUST00003_BabyFood",
         "2016",
         "10",
         "0",
         "B"
        ]
       ],
       "shape": {
        "columns": 15,
        "rows": 3
       }
      },
      "text/html": [
       "<div>\n",
       "<style scoped>\n",
       "    .dataframe tbody tr th:only-of-type {\n",
       "        vertical-align: middle;\n",
       "    }\n",
       "\n",
       "    .dataframe tbody tr th {\n",
       "        vertical-align: top;\n",
       "    }\n",
       "\n",
       "    .dataframe thead th {\n",
       "        text-align: right;\n",
       "    }\n",
       "</style>\n",
       "<table border=\"1\" class=\"dataframe\">\n",
       "  <thead>\n",
       "    <tr style=\"text-align: right;\">\n",
       "      <th></th>\n",
       "      <th>date</th>\n",
       "      <th>customer_id</th>\n",
       "      <th>product</th>\n",
       "      <th>price</th>\n",
       "      <th>quantity</th>\n",
       "      <th>coupon_code</th>\n",
       "      <th>shipping_city</th>\n",
       "      <th>discount</th>\n",
       "      <th>net_price</th>\n",
       "      <th>revenue</th>\n",
       "      <th>transaction_key</th>\n",
       "      <th>order_year</th>\n",
       "      <th>order_month</th>\n",
       "      <th>is_high_discount</th>\n",
       "      <th>product_initial</th>\n",
       "    </tr>\n",
       "  </thead>\n",
       "  <tbody>\n",
       "    <tr>\n",
       "      <th>0</th>\n",
       "      <td>2014-10-18</td>\n",
       "      <td>CUST00001</td>\n",
       "      <td>Cosmetics</td>\n",
       "      <td>437.20</td>\n",
       "      <td>8446</td>\n",
       "      <td>SAVE20</td>\n",
       "      <td>toronto</td>\n",
       "      <td>0.2</td>\n",
       "      <td>349.760</td>\n",
       "      <td>2954072.960</td>\n",
       "      <td>20141018_CUST00001_Cosmetics</td>\n",
       "      <td>2014</td>\n",
       "      <td>10</td>\n",
       "      <td>1</td>\n",
       "      <td>C</td>\n",
       "    </tr>\n",
       "    <tr>\n",
       "      <th>1</th>\n",
       "      <td>2011-11-07</td>\n",
       "      <td>CUST00002</td>\n",
       "      <td>Vegetables</td>\n",
       "      <td>154.06</td>\n",
       "      <td>3018</td>\n",
       "      <td>PROMO10</td>\n",
       "      <td>tokyo</td>\n",
       "      <td>0.1</td>\n",
       "      <td>138.654</td>\n",
       "      <td>418457.772</td>\n",
       "      <td>20111107_CUST00002_Vegetables</td>\n",
       "      <td>2011</td>\n",
       "      <td>11</td>\n",
       "      <td>1</td>\n",
       "      <td>V</td>\n",
       "    </tr>\n",
       "    <tr>\n",
       "      <th>2</th>\n",
       "      <td>2016-10-31</td>\n",
       "      <td>CUST00003</td>\n",
       "      <td>Baby Food</td>\n",
       "      <td>255.28</td>\n",
       "      <td>1517</td>\n",
       "      <td>FREESHIP</td>\n",
       "      <td>new york</td>\n",
       "      <td>0.0</td>\n",
       "      <td>255.280</td>\n",
       "      <td>387259.760</td>\n",
       "      <td>20161031_CUST00003_BabyFood</td>\n",
       "      <td>2016</td>\n",
       "      <td>10</td>\n",
       "      <td>0</td>\n",
       "      <td>B</td>\n",
       "    </tr>\n",
       "  </tbody>\n",
       "</table>\n",
       "</div>"
      ],
      "text/plain": [
       "        date customer_id     product   price  quantity coupon_code  \\\n",
       "0 2014-10-18   CUST00001   Cosmetics  437.20      8446      SAVE20   \n",
       "1 2011-11-07   CUST00002  Vegetables  154.06      3018     PROMO10   \n",
       "2 2016-10-31   CUST00003   Baby Food  255.28      1517    FREESHIP   \n",
       "\n",
       "  shipping_city  discount  net_price      revenue  \\\n",
       "0       toronto       0.2    349.760  2954072.960   \n",
       "1         tokyo       0.1    138.654   418457.772   \n",
       "2      new york       0.0    255.280   387259.760   \n",
       "\n",
       "                 transaction_key  order_year  order_month  is_high_discount  \\\n",
       "0   20141018_CUST00001_Cosmetics        2014           10                 1   \n",
       "1  20111107_CUST00002_Vegetables        2011           11                 1   \n",
       "2    20161031_CUST00003_BabyFood        2016           10                 0   \n",
       "\n",
       "  product_initial  \n",
       "0               C  \n",
       "1               V  \n",
       "2               B  "
      ]
     },
     "execution_count": 36,
     "metadata": {},
     "output_type": "execute_result"
    }
   ],
   "source": [
    "# Date features\n",
    "data[\"order_year\"]  = data[\"date\"].dt.year\n",
    "data[\"order_month\"] = data[\"date\"].dt.month\n",
    "\n",
    "# Binary engineered feature: high discount flag (1 if discount >= 10%, else 0)\n",
    "# Priority/region flags (since original file had Region/Order Priority; here we simulate similar flags)\n",
    "\n",
    "data[\"is_high_discount\"] = (data[\"discount\"] >= 0.10).astype(int) #astype(int) converts the boolean values (True/False) to integers (1/0)\n",
    "\n",
    "# To display the first letter of the product \n",
    "data[\"product_initial\"] = data[\"product\"].apply(lambda x: x[0] if isinstance(x, str) and len(x)>0 else \"\")\n",
    "\n",
    "data.head(3)\n"
   ]
  },
  {
   "cell_type": "markdown",
   "id": "62a6f230",
   "metadata": {},
   "source": [
    "#### 10. Mini Aggregation"
   ]
  },
  {
   "cell_type": "code",
   "execution_count": 40,
   "id": "3d986b61",
   "metadata": {},
   "outputs": [
    {
     "data": {
      "application/vnd.microsoft.datawrangler.viewer.v0+json": {
       "columns": [
        {
         "name": "product",
         "rawType": "object",
         "type": "string"
        },
        {
         "name": "revenue",
         "rawType": "float64",
         "type": "float"
        }
       ],
       "ref": "1b5c170c-1631-41a4-b034-512e1af69a37",
       "rows": [
        [
         "Office Supplies",
         "261894761.8077"
        ],
        [
         "Household",
         "220672236.7513"
        ],
        [
         "Cosmetics",
         "169634946.576"
        ],
        [
         "Meat",
         "155579944.9722"
        ],
        [
         "Baby Food",
         "99918412.1464"
        ],
        [
         "Cereal",
         "73230294.324"
        ],
        [
         "Vegetables",
         "65368978.2942"
        ],
        [
         "Snacks",
         "54283174.5138"
        ],
        [
         "Clothes",
         "37219044.6544"
        ],
        [
         "Personal Care",
         "34983878.3811"
        ]
       ],
       "shape": {
        "columns": 1,
        "rows": 10
       }
      },
      "text/plain": [
       "product\n",
       "Office Supplies    2.618948e+08\n",
       "Household          2.206722e+08\n",
       "Cosmetics          1.696349e+08\n",
       "Meat               1.555799e+08\n",
       "Baby Food          9.991841e+07\n",
       "Cereal             7.323029e+07\n",
       "Vegetables         6.536898e+07\n",
       "Snacks             5.428317e+07\n",
       "Clothes            3.721904e+07\n",
       "Personal Care      3.498388e+07\n",
       "Name: revenue, dtype: float64"
      ]
     },
     "execution_count": 40,
     "metadata": {},
     "output_type": "execute_result"
    }
   ],
   "source": [
    "# For the revenue using shipping_city for the top 10 cities\n",
    "#city_revenue = (data.groupby(\"shipping_city\")[\"revenue\"]\n",
    "                  #.sum()\n",
    "                  #.sort_values(ascending=False)\n",
    "                  #.head(10))\n",
    "#city_revenue\n",
    "\n",
    "product_revenue = (data.groupby(\"product\")[\"revenue\"]\n",
    "                  .sum()\n",
    "                    .sort_values(ascending=False)\n",
    "                    .head(10))\n",
    "product_revenue\n"
   ]
  },
  {
   "cell_type": "markdown",
   "id": "3c1e3858",
   "metadata": {},
   "source": [
    "#### 11. Serialization Checkpoint\n",
    "Save cleaned data to JSON"
   ]
  },
  {
   "cell_type": "code",
   "execution_count": 41,
   "id": "990360c1",
   "metadata": {},
   "outputs": [
    {
     "name": "stdout",
     "output_type": "stream",
     "text": [
      "Saved: data/transactions_cleaned_final.csv & .json\n"
     ]
    }
   ],
   "source": [
    "# CSV + JSON\n",
    "data.to_csv(\"data/transactions_cleaned_final.csv\", index=False)\n",
    "data.to_json(\"data/transactions_cleaned_final.json\", orient=\"records\")\n",
    "\n",
    "print(\"Saved: data/transactions_cleaned_final.csv & .json\")"
   ]
  },
  {
   "cell_type": "markdown",
   "id": "d8bb501a",
   "metadata": {},
   "source": [
    "#### 12. Soft Interview Reflection"
   ]
  },
  {
   "cell_type": "markdown",
   "id": "ee98b71d",
   "metadata": {},
   "source": [
    "### Step 12 — Soft Interview Reflection\n",
    "\n",
    "Using some functions and a class made my work easier and more organized. \n",
    "\n",
    "The `clean()` method helped me to keep all my cleaning in one place so i dont repeat codes.\n",
    "\n",
    "The `total()` method :- I was able to check revenue and confirm my data was well using the total() function. \n",
    "By putting logic inside the functions, I was able to re-run my notebook on new data without rewriting steps.  \n",
    "This structure also made the notebook easier to read and debug, since each part had a clear job.  \n",
    "Overall, functions helped me save time, avoid mistakes, and keep my workflow simple.\n"
   ]
  },
  {
   "cell_type": "markdown",
   "id": "72666753",
   "metadata": {},
   "source": [
    "#### After Step 12 (Data-Dictionary)\n",
    "\n",
    "Merge field definitions from the primary CSV header and the secondary metadata source. \n",
    "\n",
    "Present as a tidy Markdown table including the new columns, for example: Field, Type, Description, Source. Explain how they were created, e.g. synthetic, combination, mean, etc"
   ]
  },
  {
   "cell_type": "code",
   "execution_count": 53,
   "id": "dba1c35c",
   "metadata": {},
   "outputs": [
    {
     "data": {
      "application/vnd.microsoft.datawrangler.viewer.v0+json": {
       "columns": [
        {
         "name": "index",
         "rawType": "int64",
         "type": "integer"
        },
        {
         "name": "date",
         "rawType": "datetime64[ns]",
         "type": "datetime"
        },
        {
         "name": "customer_id",
         "rawType": "object",
         "type": "string"
        },
        {
         "name": "product",
         "rawType": "object",
         "type": "string"
        },
        {
         "name": "price",
         "rawType": "float64",
         "type": "float"
        },
        {
         "name": "quantity",
         "rawType": "int64",
         "type": "integer"
        },
        {
         "name": "coupon_code",
         "rawType": "object",
         "type": "string"
        },
        {
         "name": "shipping_city",
         "rawType": "object",
         "type": "string"
        },
        {
         "name": "discount",
         "rawType": "float64",
         "type": "float"
        },
        {
         "name": "net_price",
         "rawType": "float64",
         "type": "float"
        },
        {
         "name": "revenue",
         "rawType": "float64",
         "type": "float"
        },
        {
         "name": "transaction_key",
         "rawType": "object",
         "type": "string"
        },
        {
         "name": "order_year",
         "rawType": "int32",
         "type": "integer"
        },
        {
         "name": "order_month",
         "rawType": "int32",
         "type": "integer"
        },
        {
         "name": "is_high_discount",
         "rawType": "int64",
         "type": "integer"
        },
        {
         "name": "product_initial",
         "rawType": "object",
         "type": "string"
        },
        {
         "name": "city_name",
         "rawType": "object",
         "type": "string"
        },
        {
         "name": "country",
         "rawType": "object",
         "type": "string"
        },
        {
         "name": "province",
         "rawType": "object",
         "type": "string"
        },
        {
         "name": "population",
         "rawType": "float64",
         "type": "float"
        },
        {
         "name": "latitude",
         "rawType": "float64",
         "type": "float"
        },
        {
         "name": "longitude",
         "rawType": "float64",
         "type": "float"
        }
       ],
       "ref": "7b359cd6-8706-47f1-82b0-58e6674a7d8d",
       "rows": [
        [
         "0",
         "2014-10-18 00:00:00",
         "CUST00001",
         "Cosmetics",
         "437.2",
         "8446",
         "SAVE20",
         "Toronto",
         "0.2",
         "349.76",
         "2954072.96",
         "20141018_CUST00001_Cosmetics",
         "2014",
         "10",
         "1",
         "C",
         "Toronto",
         "Canada",
         "Ontario",
         "5647656.0",
         "43.7417",
         "-79.3733"
        ],
        [
         "1",
         "2011-11-07 00:00:00",
         "CUST00002",
         "Vegetables",
         "154.06",
         "3018",
         "PROMO10",
         "Tokyo",
         "0.1",
         "138.654",
         "418457.772",
         "20111107_CUST00002_Vegetables",
         "2011",
         "11",
         "1",
         "V",
         "Tokyo",
         "Japan",
         "Tōkyō",
         "37785000.0",
         "35.687",
         "139.7495"
        ],
        [
         "2",
         "2016-10-31 00:00:00",
         "CUST00003",
         "Baby Food",
         "255.28",
         "1517",
         "FREESHIP",
         "New York",
         "0.0",
         "255.28",
         "387259.76",
         "20161031_CUST00003_BabyFood",
         "2016",
         "10",
         "0",
         "B",
         "New York",
         "United States",
         "New York",
         "18832416.0",
         "40.6943",
         "-73.9249"
        ],
        [
         "3",
         "2010-04-10 00:00:00",
         "CUST00004",
         "Cereal",
         "205.7",
         "3322",
         "FREESHIP",
         "New York",
         "0.0",
         "205.7",
         "683335.3999999999",
         "20100410_CUST00004_Cereal",
         "2010",
         "4",
         "0",
         "C",
         "New York",
         "United States",
         "New York",
         "18832416.0",
         "40.6943",
         "-73.9249"
        ],
        [
         "4",
         "2011-08-16 00:00:00",
         "CUST00005",
         "Fruits",
         "9.33",
         "9845",
         "SAVE20",
         "London",
         "0.2",
         "7.464",
         "73483.08",
         "20110816_CUST00005_Fruits",
         "2011",
         "8",
         "1",
         "F",
         "London",
         "United Kingdom",
         "London, City of",
         "11262000.0",
         "51.5072",
         "-0.1275"
        ]
       ],
       "shape": {
        "columns": 21,
        "rows": 5
       }
      },
      "text/html": [
       "<div>\n",
       "<style scoped>\n",
       "    .dataframe tbody tr th:only-of-type {\n",
       "        vertical-align: middle;\n",
       "    }\n",
       "\n",
       "    .dataframe tbody tr th {\n",
       "        vertical-align: top;\n",
       "    }\n",
       "\n",
       "    .dataframe thead th {\n",
       "        text-align: right;\n",
       "    }\n",
       "</style>\n",
       "<table border=\"1\" class=\"dataframe\">\n",
       "  <thead>\n",
       "    <tr style=\"text-align: right;\">\n",
       "      <th></th>\n",
       "      <th>date</th>\n",
       "      <th>customer_id</th>\n",
       "      <th>product</th>\n",
       "      <th>price</th>\n",
       "      <th>quantity</th>\n",
       "      <th>coupon_code</th>\n",
       "      <th>shipping_city</th>\n",
       "      <th>discount</th>\n",
       "      <th>net_price</th>\n",
       "      <th>revenue</th>\n",
       "      <th>...</th>\n",
       "      <th>order_year</th>\n",
       "      <th>order_month</th>\n",
       "      <th>is_high_discount</th>\n",
       "      <th>product_initial</th>\n",
       "      <th>city_name</th>\n",
       "      <th>country</th>\n",
       "      <th>province</th>\n",
       "      <th>population</th>\n",
       "      <th>latitude</th>\n",
       "      <th>longitude</th>\n",
       "    </tr>\n",
       "  </thead>\n",
       "  <tbody>\n",
       "    <tr>\n",
       "      <th>0</th>\n",
       "      <td>2014-10-18</td>\n",
       "      <td>CUST00001</td>\n",
       "      <td>Cosmetics</td>\n",
       "      <td>437.20</td>\n",
       "      <td>8446</td>\n",
       "      <td>SAVE20</td>\n",
       "      <td>Toronto</td>\n",
       "      <td>0.2</td>\n",
       "      <td>349.760</td>\n",
       "      <td>2954072.960</td>\n",
       "      <td>...</td>\n",
       "      <td>2014</td>\n",
       "      <td>10</td>\n",
       "      <td>1</td>\n",
       "      <td>C</td>\n",
       "      <td>Toronto</td>\n",
       "      <td>Canada</td>\n",
       "      <td>Ontario</td>\n",
       "      <td>5647656.0</td>\n",
       "      <td>43.7417</td>\n",
       "      <td>-79.3733</td>\n",
       "    </tr>\n",
       "    <tr>\n",
       "      <th>1</th>\n",
       "      <td>2011-11-07</td>\n",
       "      <td>CUST00002</td>\n",
       "      <td>Vegetables</td>\n",
       "      <td>154.06</td>\n",
       "      <td>3018</td>\n",
       "      <td>PROMO10</td>\n",
       "      <td>Tokyo</td>\n",
       "      <td>0.1</td>\n",
       "      <td>138.654</td>\n",
       "      <td>418457.772</td>\n",
       "      <td>...</td>\n",
       "      <td>2011</td>\n",
       "      <td>11</td>\n",
       "      <td>1</td>\n",
       "      <td>V</td>\n",
       "      <td>Tokyo</td>\n",
       "      <td>Japan</td>\n",
       "      <td>Tōkyō</td>\n",
       "      <td>37785000.0</td>\n",
       "      <td>35.6870</td>\n",
       "      <td>139.7495</td>\n",
       "    </tr>\n",
       "    <tr>\n",
       "      <th>2</th>\n",
       "      <td>2016-10-31</td>\n",
       "      <td>CUST00003</td>\n",
       "      <td>Baby Food</td>\n",
       "      <td>255.28</td>\n",
       "      <td>1517</td>\n",
       "      <td>FREESHIP</td>\n",
       "      <td>New York</td>\n",
       "      <td>0.0</td>\n",
       "      <td>255.280</td>\n",
       "      <td>387259.760</td>\n",
       "      <td>...</td>\n",
       "      <td>2016</td>\n",
       "      <td>10</td>\n",
       "      <td>0</td>\n",
       "      <td>B</td>\n",
       "      <td>New York</td>\n",
       "      <td>United States</td>\n",
       "      <td>New York</td>\n",
       "      <td>18832416.0</td>\n",
       "      <td>40.6943</td>\n",
       "      <td>-73.9249</td>\n",
       "    </tr>\n",
       "    <tr>\n",
       "      <th>3</th>\n",
       "      <td>2010-04-10</td>\n",
       "      <td>CUST00004</td>\n",
       "      <td>Cereal</td>\n",
       "      <td>205.70</td>\n",
       "      <td>3322</td>\n",
       "      <td>FREESHIP</td>\n",
       "      <td>New York</td>\n",
       "      <td>0.0</td>\n",
       "      <td>205.700</td>\n",
       "      <td>683335.400</td>\n",
       "      <td>...</td>\n",
       "      <td>2010</td>\n",
       "      <td>4</td>\n",
       "      <td>0</td>\n",
       "      <td>C</td>\n",
       "      <td>New York</td>\n",
       "      <td>United States</td>\n",
       "      <td>New York</td>\n",
       "      <td>18832416.0</td>\n",
       "      <td>40.6943</td>\n",
       "      <td>-73.9249</td>\n",
       "    </tr>\n",
       "    <tr>\n",
       "      <th>4</th>\n",
       "      <td>2011-08-16</td>\n",
       "      <td>CUST00005</td>\n",
       "      <td>Fruits</td>\n",
       "      <td>9.33</td>\n",
       "      <td>9845</td>\n",
       "      <td>SAVE20</td>\n",
       "      <td>London</td>\n",
       "      <td>0.2</td>\n",
       "      <td>7.464</td>\n",
       "      <td>73483.080</td>\n",
       "      <td>...</td>\n",
       "      <td>2011</td>\n",
       "      <td>8</td>\n",
       "      <td>1</td>\n",
       "      <td>F</td>\n",
       "      <td>London</td>\n",
       "      <td>United Kingdom</td>\n",
       "      <td>London, City of</td>\n",
       "      <td>11262000.0</td>\n",
       "      <td>51.5072</td>\n",
       "      <td>-0.1275</td>\n",
       "    </tr>\n",
       "  </tbody>\n",
       "</table>\n",
       "<p>5 rows × 21 columns</p>\n",
       "</div>"
      ],
      "text/plain": [
       "        date customer_id     product   price  quantity coupon_code  \\\n",
       "0 2014-10-18   CUST00001   Cosmetics  437.20      8446      SAVE20   \n",
       "1 2011-11-07   CUST00002  Vegetables  154.06      3018     PROMO10   \n",
       "2 2016-10-31   CUST00003   Baby Food  255.28      1517    FREESHIP   \n",
       "3 2010-04-10   CUST00004      Cereal  205.70      3322    FREESHIP   \n",
       "4 2011-08-16   CUST00005      Fruits    9.33      9845      SAVE20   \n",
       "\n",
       "  shipping_city  discount  net_price      revenue  ... order_year  \\\n",
       "0       Toronto       0.2    349.760  2954072.960  ...       2014   \n",
       "1         Tokyo       0.1    138.654   418457.772  ...       2011   \n",
       "2      New York       0.0    255.280   387259.760  ...       2016   \n",
       "3      New York       0.0    205.700   683335.400  ...       2010   \n",
       "4        London       0.2      7.464    73483.080  ...       2011   \n",
       "\n",
       "   order_month  is_high_discount  product_initial city_name         country  \\\n",
       "0           10                 1                C   Toronto          Canada   \n",
       "1           11                 1                V     Tokyo           Japan   \n",
       "2           10                 0                B  New York   United States   \n",
       "3            4                 0                C  New York   United States   \n",
       "4            8                 1                F    London  United Kingdom   \n",
       "\n",
       "          province  population  latitude  longitude  \n",
       "0          Ontario   5647656.0   43.7417   -79.3733  \n",
       "1            Tōkyō  37785000.0   35.6870   139.7495  \n",
       "2         New York  18832416.0   40.6943   -73.9249  \n",
       "3         New York  18832416.0   40.6943   -73.9249  \n",
       "4  London, City of  11262000.0   51.5072    -0.1275  \n",
       "\n",
       "[5 rows x 21 columns]"
      ]
     },
     "execution_count": 53,
     "metadata": {},
     "output_type": "execute_result"
    }
   ],
   "source": [
    "# Read city metadata\n",
    "cities = pd.read_csv(\"data/worldcities.csv\")\n",
    "\n",
    "# I picked only the columns I need\n",
    "cities_small = cities[[\"city_name\",\"country\",\"province\",\"population\",\"latitude\",\"longitude\"]].copy()\n",
    "cities_small[\"city_name\"] = cities_small[\"city_name\"].str.title()\n",
    "\n",
    "# I filtered to just the shipping cities to shrink size\n",
    "my_cities = data[\"shipping_city\"].dropna().unique().tolist() # Get unique shipping cities from the transactions data\n",
    "cities_filtered = cities_small[cities_small[\"city_name\"].isin(my_cities)] # Filter to just our shipping cities to shrink size\n",
    "\n",
    "# I merged metadata to transactions\n",
    "enriched = data.merge(cities_filtered, left_on=\"shipping_city\", right_on=\"city_name\", how=\"left\")\n",
    "enriched.head(5)\n"
   ]
  }
 ],
 "metadata": {
  "kernelspec": {
   "display_name": ".venv",
   "language": "python",
   "name": "python3"
  },
  "language_info": {
   "codemirror_mode": {
    "name": "ipython",
    "version": 3
   },
   "file_extension": ".py",
   "mimetype": "text/x-python",
   "name": "python",
   "nbconvert_exporter": "python",
   "pygments_lexer": "ipython3",
   "version": "3.13.7"
  }
 },
 "nbformat": 4,
 "nbformat_minor": 5
}
